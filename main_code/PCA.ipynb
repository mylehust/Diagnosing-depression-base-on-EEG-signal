{
 "cells": [
  {
   "cell_type": "markdown",
   "metadata": {},
   "source": [
    "# TRAINING MODEL WITH PCA"
   ]
  },
  {
   "cell_type": "code",
   "execution_count": 1,
   "metadata": {},
   "outputs": [],
   "source": [
    "from sklearn.model_selection import train_test_split\n",
    "from sklearn.metrics import accuracy_score\n",
    "import pandas as pd\n",
    "# df_1 là dataframe đã loại đi các kênh có tương quan pearson\n",
    "df_1 = pd.read_excel(\"C:\\\\Users\\\\ThuyLe\\\\Desktop\\\\Diagnosing-depression-using-EEG-main\\\\EEG_main\\\\Code\\\\df_1.xlsx\")\n",
    "X = df_1.drop(['type'], axis=1)  # Loại bỏ cột nhãn khỏi đặc trưng\n",
    "y = df_1['type']  # label\n"
   ]
  },
  {
   "cell_type": "code",
   "execution_count": 2,
   "metadata": {},
   "outputs": [],
   "source": [
    "from sklearn.decomposition import PCA\n",
    "from sklearn.preprocessing import StandardScaler\n",
    "\n",
    "# Chuẩn hóa dữ liệu\n",
    "scaler = StandardScaler()\n",
    "X_scaled = pd.DataFrame(scaler.fit_transform(X))"
   ]
  },
  {
   "cell_type": "code",
   "execution_count": 6,
   "metadata": {},
   "outputs": [
    {
     "name": "stdout",
     "output_type": "stream",
     "text": [
      "0.6363636363636364\n"
     ]
    }
   ],
   "source": [
    "from sklearn.svm import SVC\n",
    "pca = PCA(n_components = 25)\n",
    "pca.fit(X_scaled)\n",
    "data_pca = pca.transform(X_scaled)\n",
    "\n",
    "X_train_pca, X_test_pca, y_train_pca, y_test_pca = train_test_split(data_pca, y, test_size=0.2, random_state=42)\n",
    "\n",
    "svm_model = SVC(random_state=42)\n",
    "svm_model.fit(X_train_pca, y_train_pca)\n",
    "\n",
    "predict_pca = svm_model.predict(X_test_pca)\n",
    "acc_pca = accuracy_score(y_test_pca, predict_pca)\n",
    "print(acc_pca)"
   ]
  }
 ],
 "metadata": {
  "kernelspec": {
   "display_name": "Python 3",
   "language": "python",
   "name": "python3"
  },
  "language_info": {
   "codemirror_mode": {
    "name": "ipython",
    "version": 3
   },
   "file_extension": ".py",
   "mimetype": "text/x-python",
   "name": "python",
   "nbconvert_exporter": "python",
   "pygments_lexer": "ipython3",
   "version": "3.11.4"
  }
 },
 "nbformat": 4,
 "nbformat_minor": 2
}
